{
 "cells": [
  {
   "cell_type": "code",
   "execution_count": 2,
   "id": "018fed3b",
   "metadata": {},
   "outputs": [
    {
     "name": "stdout",
     "output_type": "stream",
     "text": [
      "/Users/nicholaskhorasani/Documents/Columbia_University/Spring2025/ML and Climate/EV2Gym-DrivewayV1/venv/bin/pip: line 2: /Users/nicholaskhorasani/Documents/Columbia_University/Spring2025/ML and Climate/EV2Gym-Driveways/venv/bin/python3: No such file or directory\n",
      "/Users/nicholaskhorasani/Documents/Columbia_University/Spring2025/ML and Climate/EV2Gym-DrivewayV1/venv/bin/pip: line 2: exec: /Users/nicholaskhorasani/Documents/Columbia_University/Spring2025/ML and Climate/EV2Gym-Driveways/venv/bin/python3: cannot execute: No such file or directory\n"
     ]
    }
   ],
   "source": [
    "!pip install stable_baselines3"
   ]
  },
  {
   "cell_type": "code",
   "execution_count": 3,
   "id": "2f96dd8b",
   "metadata": {},
   "outputs": [
    {
     "ename": "ModuleNotFoundError",
     "evalue": "No module named 'stable_baselines3'",
     "output_type": "error",
     "traceback": [
      "\u001b[0;31m---------------------------------------------------------------------------\u001b[0m",
      "\u001b[0;31mModuleNotFoundError\u001b[0m                       Traceback (most recent call last)",
      "Cell \u001b[0;32mIn[3], line 1\u001b[0m\n\u001b[0;32m----> 1\u001b[0m \u001b[38;5;28;01mfrom\u001b[39;00m\u001b[38;5;250m \u001b[39m\u001b[38;5;21;01mstable_baselines3\u001b[39;00m\u001b[38;5;250m \u001b[39m\u001b[38;5;28;01mimport\u001b[39;00m PPO\n\u001b[1;32m      2\u001b[0m \u001b[38;5;28;01mfrom\u001b[39;00m\u001b[38;5;250m \u001b[39m\u001b[38;5;21;01mstable_baselines3\u001b[39;00m\u001b[38;5;21;01m.\u001b[39;00m\u001b[38;5;21;01mcommon\u001b[39;00m\u001b[38;5;21;01m.\u001b[39;00m\u001b[38;5;21;01mvec_env\u001b[39;00m\u001b[38;5;250m \u001b[39m\u001b[38;5;28;01mimport\u001b[39;00m DummyVecEnv\n\u001b[1;32m      3\u001b[0m \u001b[38;5;28;01mfrom\u001b[39;00m\u001b[38;5;250m \u001b[39m\u001b[38;5;21;01mev2gym_driveway\u001b[39;00m\u001b[38;5;21;01m.\u001b[39;00m\u001b[38;5;21;01mev\u001b[39;00m\u001b[38;5;250m \u001b[39m\u001b[38;5;28;01mimport\u001b[39;00m EV2GymDriveway\n",
      "\u001b[0;31mModuleNotFoundError\u001b[0m: No module named 'stable_baselines3'"
     ]
    }
   ],
   "source": [
    "from stable_baselines3 import PPO\n",
    "from stable_baselines3.common.vec_env import DummyVecEnv\n",
    "from ev2gym_driveway.ev import EV2GymDriveway\n",
    "from ev2gym_driveway.rl_agent.state import state_function_basic_profit_view\n",
    "from ev2gym_driveway.rl_agent.reward import reward_function_profit_only\n",
    "\n",
    "def make_env():\n",
    "    return EV2GymDriveway(\n",
    "        config_file=\"configs/your_config.yaml\",\n",
    "        state_function=state_function_basic_profit_view,\n",
    "        reward_function=reward_function_profit_only,\n",
    "        verbose=False  # change to True if you want logs from sim\n",
    "    )\n",
    "\n",
    "# Wrap in DummyVecEnv for SB3\n",
    "env = DummyVecEnv([make_env])\n",
    "\n",
    "# Create and train PPO agent\n",
    "model = PPO(\n",
    "    \"MlpPolicy\",\n",
    "    env,\n",
    "    verbose=1,\n",
    "    tensorboard_log=\"./ev2gym_logs/\",  # optional\n",
    "    n_steps=2048,\n",
    "    batch_size=64,\n",
    "    learning_rate=3e-4\n",
    ")\n",
    "\n",
    "model.learn(total_timesteps=100_000)\n",
    "\n",
    "# Save the model\n",
    "model.save(\"ppo_ev2gym_agent\")\n"
   ]
  },
  {
   "cell_type": "code",
   "execution_count": null,
   "id": "242d6dff",
   "metadata": {},
   "outputs": [],
   "source": [
    "from stable_baselines3 import PPO\n",
    "from ev2gym_driveway.EV2GymDriveway import EV2GymDriveway\n",
    "from ev2gym_driveway.rl_agent.state import state_function_basic_profit_view\n",
    "from ev2gym_driveway.rl_agent.reward import reward_function_profit_only\n",
    "\n",
    "env = EV2GymDriveway(\n",
    "    config_file=\"configs/your_config.yaml\",\n",
    "    state_function=state_function_basic_profit_view,\n",
    "    reward_function=reward_function_profit_only,\n",
    "    verbose=True\n",
    ")\n",
    "\n",
    "model = PPO.load(\"ppo_ev2gym_agent\")\n",
    "\n",
    "obs, _ = env.reset()\n",
    "done = False\n",
    "total_reward = 0\n",
    "\n",
    "while not done:\n",
    "    action, _ = model.predict(obs, deterministic=True)\n",
    "    obs, reward, done, _, info = env.step(action)\n",
    "    total_reward += reward\n",
    "\n",
    "print(f\"Total reward: {total_reward:.2f}\")\n",
    "print(f\"Profit: {info['total_money_earned'] - info['total_money_spent']:.2f}\")\n"
   ]
  },
  {
   "cell_type": "code",
   "execution_count": null,
   "id": "7c91c4a7",
   "metadata": {},
   "outputs": [],
   "source": []
  }
 ],
 "metadata": {
  "kernelspec": {
   "display_name": "venv",
   "language": "python",
   "name": "python3"
  },
  "language_info": {
   "codemirror_mode": {
    "name": "ipython",
    "version": 3
   },
   "file_extension": ".py",
   "mimetype": "text/x-python",
   "name": "python",
   "nbconvert_exporter": "python",
   "pygments_lexer": "ipython3",
   "version": "3.9.6"
  }
 },
 "nbformat": 4,
 "nbformat_minor": 5
}
